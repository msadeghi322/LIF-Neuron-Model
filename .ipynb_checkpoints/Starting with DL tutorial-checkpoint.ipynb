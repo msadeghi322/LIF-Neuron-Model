{
 "cells": [
  {
   "cell_type": "markdown",
   "id": "a6ef04ce",
   "metadata": {},
   "source": [
    "# Basics of leaky-integrate-and-fire (LIF) neuron  \n",
    "\n",
    "\n",
    "\n",
    "\n"
   ]
  },
  {
   "cell_type": "code",
   "execution_count": 3,
   "id": "4f8218d4",
   "metadata": {},
   "outputs": [],
   "source": [
    "# Imports\n",
    "import numpy as np\n",
    "import matplotlib.pyplot as plt"
   ]
  },
  {
   "cell_type": "code",
   "execution_count": 4,
   "id": "0375d5f5",
   "metadata": {},
   "outputs": [],
   "source": [
    "# @title Figure settings\n",
    "import logging\n",
    "logging.getLogger('matplotlib.font_manager').disabled = True\n",
    "import ipywidgets as widgets  # interactive display\n",
    "%config InlineBackend.figure_format = 'retina'\n",
    "plt.style.use(\"https://raw.githubusercontent.com/NeuromatchAcademy/course-content/master/nma.mplstyle\")"
   ]
  },
  {
   "cell_type": "markdown",
   "id": "e4cc8d64",
   "metadata": {},
   "source": [
    "## LIF model\n",
    "\n",
    "$ \\tau_m \\frac{d}{dt}V(t) = E_L - V(t) + R.I(t) $, $\\;\\;\\;\\;$ if  $\\;\\;\\;\\;\\;\\;$  $V(t)<V_{th}$ <br> <br>\n",
    "$ V(t)=V_{reset} $, $\\;\\;\\;\\;\\;\\;$  Otherwise <br><br>\n",
    "\n",
    "In order to simulate the equation, we first discretize it: <br><br>\n",
    "\n",
    "$V(t+1) = V(t) + \\frac{\\Delta t}{\\tau_m}[E_L - V(t) + R.I(t)]$\n"
   ]
  },
  {
   "cell_type": "code",
   "execution_count": 39,
   "id": "b0040c5f",
   "metadata": {},
   "outputs": [
    {
     "name": "stdout",
     "output_type": "stream",
     "text": [
      "0.15\n"
     ]
    },
    {
     "ename": "TypeError",
     "evalue": "'str' object is not callable",
     "output_type": "error",
     "traceback": [
      "\u001b[0;31m---------------------------------------------------------------------------\u001b[0m",
      "\u001b[0;31mTypeError\u001b[0m                                 Traceback (most recent call last)",
      "Cell \u001b[0;32mIn[39], line 22\u001b[0m\n\u001b[1;32m     19\u001b[0m     \u001b[38;5;66;03m#print(f\"{t:.3f}{V[step+1]:.3e}\")  \u001b[39;00m\n\u001b[1;32m     21\u001b[0m plt\u001b[38;5;241m.\u001b[39mfigure()\n\u001b[0;32m---> 22\u001b[0m \u001b[43mplt\u001b[49m\u001b[38;5;241;43m.\u001b[39;49m\u001b[43mtitle\u001b[49m\u001b[43m(\u001b[49m\u001b[43m)\u001b[49m\n\u001b[1;32m     23\u001b[0m \u001b[38;5;66;03m#plt.xlabel('Steps')\u001b[39;00m\n\u001b[1;32m     24\u001b[0m \u001b[38;5;66;03m#plt.ylabel('V')\u001b[39;00m\n\u001b[1;32m     25\u001b[0m plt\u001b[38;5;241m.\u001b[39mplot(\u001b[38;5;28mrange\u001b[39m(\u001b[38;5;241m11\u001b[39m),V, \u001b[38;5;124m'\u001b[39m\u001b[38;5;124mro\u001b[39m\u001b[38;5;124m'\u001b[39m , label\u001b[38;5;241m=\u001b[39m\u001b[38;5;124m'\u001b[39m\u001b[38;5;124mVoltage\u001b[39m\u001b[38;5;124m'\u001b[39m)\n",
      "\u001b[0;31mTypeError\u001b[0m: 'str' object is not callable"
     ]
    },
    {
     "data": {
      "text/plain": [
       "<Figure size 800x600 with 0 Axes>"
      ]
     },
     "metadata": {},
     "output_type": "display_data"
    }
   ],
   "source": [
    "t_max = 150e-3   # second\n",
    "dt = 1e-3        # second\n",
    "tau = 20e-3      # second\n",
    "el = -60e-3      # milivolt\n",
    "vr = -70e-3      # milivolt\n",
    "vth = -50e-3     # milivolt\n",
    "r = 100e6        # ohm\n",
    "i_mean = 25e-11  # ampere\n",
    "print(t_max)\n",
    "\n",
    "\n",
    "V = np.zeros(11)\n",
    "# print(V)\n",
    "V[0] = el\n",
    "for step in range(10):\n",
    "    t = step * dt\n",
    "    I = i_mean * (1 + np.sin((t * 2 * np.pi) / 0.01))\n",
    "    V[step+1] = V[step] + (dt/tau)*(el - V[step] + r*I) \n",
    "    #print(f\"{t:.3f}{V[step+1]:.3e}\")  \n",
    "    \n",
    "plt.figure()\n",
    "plt.title()\n",
    "plt.xlabel('Steps')\n",
    "plt.ylabel('V')\n",
    "plt.plot(range(11),V, 'ro' , label='Voltage')\n",
    "plt.legend()\n",
    "plt.show()"
   ]
  },
  {
   "cell_type": "code",
   "execution_count": null,
   "id": "e2432285",
   "metadata": {},
   "outputs": [],
   "source": []
  }
 ],
 "metadata": {
  "kernelspec": {
   "display_name": "Python 3 (ipykernel)",
   "language": "python",
   "name": "python3"
  },
  "language_info": {
   "codemirror_mode": {
    "name": "ipython",
    "version": 3
   },
   "file_extension": ".py",
   "mimetype": "text/x-python",
   "name": "python",
   "nbconvert_exporter": "python",
   "pygments_lexer": "ipython3",
   "version": "3.10.9"
  }
 },
 "nbformat": 4,
 "nbformat_minor": 5
}
